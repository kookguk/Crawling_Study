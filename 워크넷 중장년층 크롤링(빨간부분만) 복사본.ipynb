{
 "cells": [
  {
   "cell_type": "markdown",
   "id": "249bc1a7",
   "metadata": {},
   "source": [
    "### STEP_1. 필요한 모듈 import"
   ]
  },
  {
   "cell_type": "code",
   "execution_count": 11,
   "id": "e2dfda6a",
   "metadata": {},
   "outputs": [],
   "source": [
    "# selenium의 webdriver를 사용하기 위한 import\n",
    "from selenium import webdriver\n",
    "\n",
    "# selenium으로 키를 조작하기 위한 import\n",
    "from selenium.webdriver.common.keys import Keys\n",
    "\n",
    "# selenium으로 매개변수 경로를 이용하기 위한 import\n",
    "from selenium.webdriver.common.by import By\n",
    "\n",
    "# 페이지 로딩을 기다리는데에 사용할 time 모듈 import\n",
    "import time\n",
    "\n",
    "# 데이터를 구조화하고 처리하는 데 사용하기 위한 import\n",
    "import pandas as pd"
   ]
  },
  {
   "cell_type": "markdown",
   "id": "92f13f1d",
   "metadata": {},
   "source": [
    "### STEP_2. 크롬드라이버로 원하는 url로 접속"
   ]
  },
  {
   "cell_type": "code",
   "execution_count": 12,
   "id": "95d7fba8",
   "metadata": {},
   "outputs": [],
   "source": [
    "# 크롬드라이버 실행\n",
    "driver = webdriver.Chrome()\n",
    "\n",
    "#크롬 드라이버에 url 주소 넣고 실행\n",
    "url = 'https://www.work.go.kr/empInfo/empInfoSrch/list/dtlEmpSrchList.do?careerTo=&keywordJobCd=&occupation=&shsyWorkSecd=&rot2WorkYn=&templateInfo=&payGbn=&resultCnt=10&keywordJobCont=N&cert=&cloDateStdt=&moreCon=&minPay=&codeDepth2Info=11000&currentPageNo=1&isChkLocCall=&sortFieldInfo=DATE&major=&resrDutyExcYn=&eodwYn=&sortField=DATE&staArea=&keyword=&sortOrderBy=DESC&termSearchGbn=all&carrEssYns=&benefitSrchAndOr=O&disableEmpHopeGbn=&webIsOut=&actServExcYn=&maxPay=&keywordStaAreaNm=N&emailApplyYn=&listCookieInfo=DTL&pageCode=&codeDepth1Info=11000&keywordEtcYn=&publDutyExcYn=&keywordJobCdSeqNo=&exJobsCd=&templateDepthNmInfo=&computerPreferential=&regDateStdt=&employGbn=&empTpGbcd=1&region=&infaYn=&resultCntInfo=10&siteClcd=all&cloDateEndt=&sortOrderByInfo=DESC&indArea=&careerTypes=&searchOn=Y&tlmgYn=&subEmpHopeYn=&academicGbn=&foriegn=&templateDepthNoInfo=&mealOfferClcd=&station=&moerButtonYn=Y&holidayGbn=&srcKeyword=&enterPriseGbn=all&academicGbnoEdu=noEdu&cloTermSearchGbn=all&keywordWantedTitle=N&stationNm=&benefitGbn=&keywordFlag=&notSrcKeyword=&essCertChk=&isEmptyHeader=&depth2SelCode=&_csrf=6b1ed161-5e0b-4324-ba9b-a10bdf9ea81d&keywordBusiNm=N&preferentialGbn=B&rot3WorkYn=&pfMatterPreferential=B&regDateEndt=&staAreaLineInfo1=11000&staAreaLineInfo2=1&pageIndex=1&termContractMmcnt=&careerFrom=&laborHrShortYn=#viewSPL#viewDTL'\n",
    "driver.get(url)\n",
    "\n",
    "# 페이지가 완전히 로딩되도록 3초동안 기다림\n",
    "time.sleep(3)"
   ]
  },
  {
   "cell_type": "markdown",
   "id": "614f90ba",
   "metadata": {},
   "source": [
    "### STEP_4. 페이지 스크롤"
   ]
  },
  {
   "cell_type": "code",
   "execution_count": 13,
   "id": "010730a8",
   "metadata": {},
   "outputs": [],
   "source": [
    "# 스크롤을 최하단으로 내리기 위한 함수\n",
    "def scroll_to_bottom(driver):\n",
    "    driver.execute_script('window.scrollTo(0, document.body.scrollHeight);')\n",
    "    time.sleep(2)\n",
    "    \n",
    "# 초기에 한 번 스크롤\n",
    "scroll_to_bottom(driver)\n",
    "\n",
    "# 일정 횟수만큼 스크롤을 반복하기 : 스크롤 할 때마다 새로운 기사가 추가되므로\n",
    "scroll_count = 5\n",
    "for _ in range(scroll_count):\n",
    "    scroll_to_bottom(driver)\n",
    "\n",
    "# 스크롤을 모두 내린 후의 페이지 소스 가져오기\n",
    "page_source = driver.page_source"
   ]
  },
  {
   "cell_type": "markdown",
   "id": "4f0f7ab1",
   "metadata": {},
   "source": [
    "### STEP_5. 상세 콘텐츠 정보 가져오기"
   ]
  },
  {
   "cell_type": "code",
   "execution_count": 15,
   "id": "1ef06743",
   "metadata": {},
   "outputs": [
    {
     "name": "stdout",
     "output_type": "stream",
     "text": [
      "\n",
      "\n",
      "담당업무 : 건설자재(유로폼. 단관비계) 정리및 수리 무경험자도 가능 지게차 자격증 소지자 우대 건설자재 유경험자 임금협의 가능 점심시간 12...\n",
      "D-12\n",
      "담당업무 : 유치원 중,간식 조리 및 배식 관리(보조 선생님 계심) 한식조리기능사 자격증 필수 조리 경력 1년 필수 5월 1일부터 정식 출근가능자\n",
      "채용시까지\n",
      "담당업무 : 부산시설공단 (자갈치시장사업소 - 주차관리 및 청소) □주3일~ 주4일(3교대) 주3일 ~ 4일 일8시간(3교대 근무. 주주야비비) ※ 주말...\n",
      "D-4\n",
      "담당업무 : smps검사및생산관리 [전자부품생산 > 전자부품 생산기술지원] 생산기술 검토하기,생산장비 관리하기,작업지시서 관리하기\n",
      "채용시까지\n",
      "담당업무 : - 우방드림시티 - 4등급 할머니 - 13:00~16:00-주5일 - 시급 12,400원 * 문의: 010-6374-6901\n",
      "D-12\n",
      "담당업무 : * 3등급 할머니 돌봄서비스 제공 - 좌측 약간의 편마비 있으시지만 스스로 활동 가능함. * 주 1회 휠체어 타고 15분정도 거리의 한의...\n",
      "채용시까지\n",
      "담당업무 : * 3등급 할머니 * 근무시간 10:00~13:00(3시간) * 주5일(월~금) * 원종고등학교 근처 거주 # 실제 서비스 제공 기간에 따라 임금을 ...\n",
      "채용시까지\n",
      "담당업무 : 저희 (주)부광정기는 35년 업력의 소형/정밀 전기전자부품 및 모터코아, 자동차부분품 프레스 금형개발 및 양산 제조업체입니다. 모집...\n",
      "D-12\n",
      "담당업무 : -대상자 : 5등급 남자(치매교육 이수자만 희망) -근무시간 : 13:00-16:00 / 주5일 -시급 : 12,400원 -지원방법 : 채용담당자 연...\n",
      "채용시까지\n",
      "담당업무 : - 인원: 1명 - 근무시간: 격일 근무, 06:00 ~ 익일 06:00 (휴게시간 주간 4시간, 야간 6시간) - 급여: 월 2,250,160 원 - ...\n",
      "채용시까지\n",
      "\n"
     ]
    }
   ],
   "source": [
    "# 여러 개의 요소를 가져오기 때문에 find_elemesnts \n",
    "detail_contents = driver.find_elements(By.CLASS_NAME, 'mt10')\n",
    "\n",
    "for i in detail_contents:\n",
    "    contents = i.text # 상세 요건 내용 가져오기\n",
    "    print(contents)"
   ]
  }
 ],
 "metadata": {
  "kernelspec": {
   "display_name": "Python 3 (ipykernel)",
   "language": "python",
   "name": "python3"
  },
  "language_info": {
   "codemirror_mode": {
    "name": "ipython",
    "version": 3
   },
   "file_extension": ".py",
   "mimetype": "text/x-python",
   "name": "python",
   "nbconvert_exporter": "python",
   "pygments_lexer": "ipython3",
   "version": "3.12.2"
  }
 },
 "nbformat": 4,
 "nbformat_minor": 5
}
