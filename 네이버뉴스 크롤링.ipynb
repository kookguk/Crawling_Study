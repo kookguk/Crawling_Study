{
 "cells": [
  {
   "cell_type": "code",
   "execution_count": 1,
   "id": "7bbbf486",
   "metadata": {},
   "outputs": [],
   "source": [
    "import pandas as pd\n",
    "import numpy as np\n",
    "import time\n",
    "import re\n",
    "\n",
    "from bs4 import BeautifulSoup\n",
    "from datetime import datetime\n",
    "from tqdm import tqdm\n",
    "import requests\n",
    "\n",
    "path = \"/Users/Goo/Boaz/3차 미니프로젝트/Data/\""
   ]
  },
  {
   "cell_type": "code",
   "execution_count": 9,
   "id": "abfa8a73",
   "metadata": {
    "scrolled": true
   },
   "outputs": [
    {
     "name": "stdout",
     "output_type": "stream",
     "text": [
      "검색할 키워드를 입력해주세요: 금산인삼축제\n",
      "\n",
      "몇 개의 뉴스를 크롤링할지 입력해주세요. ex) 1000(숫자만입력): 200\n"
     ]
    }
   ],
   "source": [
    "# 필요한 키워드 입력\n",
    "search_content = input(\"검색할 키워드를 입력해주세요: \")\n",
    "max_news = int(input(\"\\n몇 개의 뉴스를 크롤링할지 입력해주세요. ex) 1000(숫자만입력): \"))"
   ]
  },
  {
   "cell_type": "code",
   "execution_count": 10,
   "id": "b303925f",
   "metadata": {},
   "outputs": [],
   "source": [
    "# 크롤링할 기간 설정\n",
    "# ex) 2023년 금산인삼축제 기간: 2023.10.03 ~ 2023.10.13\n",
    "# 따라서 축제 시작 전 3개월간의 뉴스를 크롤링\n",
    "startday = [\"2023.07.13\"]\n",
    "endday = [\"2023.10.13\"]"
   ]
  },
  {
   "cell_type": "code",
   "execution_count": 11,
   "id": "35f5cc8a",
   "metadata": {
    "scrolled": true
   },
   "outputs": [
    {
     "name": "stdout",
     "output_type": "stream",
     "text": [
      "검색 항목 :  금산인삼축제\n",
      "뉴스 최대 개수 :  200\n"
     ]
    }
   ],
   "source": [
    "print(\"검색 항목 : \", search_content)\n",
    "print(\"뉴스 최대 개수 : \", max_news)"
   ]
  },
  {
   "cell_type": "code",
   "execution_count": 12,
   "id": "abdc068e",
   "metadata": {},
   "outputs": [],
   "source": [
    "# URL crawling 함수\n",
    "# -> Redirect 되지않는 네이버뉴스 max_news개가 추출될때까지 크롤링을 계속하는 함수\n",
    "\n",
    "headers = {\"User-Agent\": \"Mozilla/5.0 (Windows NT 10.0; Win64; x64) Chrome/98.0.4758.102\"}\n",
    "\n",
    "def url_crawling(search_content, start_season, end_season, max_news):\n",
    "    \n",
    "    # 집합 형태로 저장해 중복 url 제거\n",
    "    url_set = set()\n",
    "    for start_day, end_day in zip(start_season, end_season):    \n",
    "        for page in tqdm(range(1, 2000, 10)):\n",
    "            response = requests.get(f\"https://search.naver.com/search.naver?where=news&sm=tab_pge&query={search_content}&start={page}&pd=3&ds={start_day}&de={end_day}\", headers=headers)\n",
    "            # page를 넘기다 page가 없으면 종료\n",
    "            # 200은 HTTP 상태코드중 하나로 OK의 의미를 가짐. 요청이 성공적으로 처리되었음을 나타냄. 200이 아니라는것은 페이지가 없어 페이지를 넘길 수 없다는 의미\n",
    "            if response.status_code != 200:\n",
    "                print(f\"페이지 {page//10}가 없습니다. Exiting.\")\n",
    "                break\n",
    "            html = response.text\n",
    "            soup = BeautifulSoup(html, 'html.parser')\n",
    "            ul = soup.select_one(\"div.group_news > ul.list_news\")\n",
    "\n",
    "            if ul is None:\n",
    "                break\n",
    "            li_list = ul.find_all('li')\n",
    "            for li in li_list:\n",
    "                a_list = li.select('div.news_area > div.news_info > div.info_group > a.info')\n",
    "                for a_tag in a_list:\n",
    "                    href = a_tag.get('href')\n",
    "                    # href 속성값이 \"n.news.naver.com\"(네이버 뉴스)을 포함하는지 확인한다.\n",
    "                    if \"n.news.naver.com\" in href:\n",
    "                        try:\n",
    "                            # request.head()로 추출한 url이 rediret되는지 확인한다. redirect 되지않은 url만 저장한다.\n",
    "                            response = requests.head(href, allow_redirects=True)\n",
    "                            if response.status_code == 200:\n",
    "                                url_set.add(href)\n",
    "                                # 원하는 개수의 기사가 모두 크롤링 되었으면 크롤링 종료\n",
    "                                if len(url_set) >= max_news:\n",
    "                                    return list(url_set)\n",
    "                        except Exception as e:\n",
    "                            print(f\"An error occurred: {e}\")\n",
    "            time.sleep(1)\n",
    "\n",
    "    return list(url_set)"
   ]
  },
  {
   "cell_type": "code",
   "execution_count": 13,
   "id": "9dcd8d7d",
   "metadata": {},
   "outputs": [
    {
     "name": "stderr",
     "output_type": "stream",
     "text": [
      " 52%|█████████████████████                    | 103/200 [02:24<02:16,  1.41s/it]\n"
     ]
    },
    {
     "data": {
      "text/plain": [
       "140"
      ]
     },
     "execution_count": 13,
     "metadata": {},
     "output_type": "execute_result"
    }
   ],
   "source": [
    "url = url_crawling(search_content, startday, endday, max_news)\n",
    "len(url)"
   ]
  },
  {
   "cell_type": "code",
   "execution_count": 14,
   "id": "28861e70",
   "metadata": {},
   "outputs": [],
   "source": [
    "news_url = url"
   ]
  },
  {
   "cell_type": "code",
   "execution_count": 15,
   "id": "fd657dba",
   "metadata": {},
   "outputs": [
    {
     "name": "stderr",
     "output_type": "stream",
     "text": [
      "100%|█████████████████████████████████████████| 140/140 [00:21<00:00,  6.55it/s]\n"
     ]
    }
   ],
   "source": [
    "# 신문사, 제목, 본문 추출\n",
    "news_company = []\n",
    "news_title = []\n",
    "news_content = []\n",
    "\n",
    "for url in tqdm(news_url):\n",
    "    response = requests.get(url, headers=headers)\n",
    "    soup = BeautifulSoup(response.text, 'html.parser')\n",
    "    \n",
    "    company = soup.select_one(\"#ct > div.media_end_head.go_trans > div.media_end_head_top > a > img[alt]\")\n",
    "    news_company.append(company['alt'] if company else 'None')\n",
    "    title = soup.select_one(\"#ct > div.media_end_head.go_trans > div.media_end_head_title > h2\")\n",
    "    news_title.append(title.text if title else 'None')\n",
    "    content = soup.select_one(\"article#dic_area\")\n",
    "    news_content.append(content.text if content else 'None')"
   ]
  },
  {
   "cell_type": "code",
   "execution_count": 16,
   "id": "b8861891",
   "metadata": {},
   "outputs": [
    {
     "data": {
      "text/html": [
       "<div>\n",
       "<style scoped>\n",
       "    .dataframe tbody tr th:only-of-type {\n",
       "        vertical-align: middle;\n",
       "    }\n",
       "\n",
       "    .dataframe tbody tr th {\n",
       "        vertical-align: top;\n",
       "    }\n",
       "\n",
       "    .dataframe thead th {\n",
       "        text-align: right;\n",
       "    }\n",
       "</style>\n",
       "<table border=\"1\" class=\"dataframe\">\n",
       "  <thead>\n",
       "    <tr style=\"text-align: right;\">\n",
       "      <th></th>\n",
       "      <th>company</th>\n",
       "      <th>url</th>\n",
       "      <th>title</th>\n",
       "      <th>content</th>\n",
       "    </tr>\n",
       "  </thead>\n",
       "  <tbody>\n",
       "    <tr>\n",
       "      <th>0</th>\n",
       "      <td>아시아경제</td>\n",
       "      <td>https://n.news.naver.com/mnews/article/277/000...</td>\n",
       "      <td>백종원 지역축제 먹거리 사업 개선한다</td>\n",
       "      <td>\\n문체부·관광공사와 '착한가격' 먹거리 장 구축내년에 '관광 서비스 품질개선 캠페...</td>\n",
       "    </tr>\n",
       "    <tr>\n",
       "      <th>1</th>\n",
       "      <td>경향신문</td>\n",
       "      <td>https://n.news.naver.com/mnews/article/032/000...</td>\n",
       "      <td>신나게 춤추고, 인삼 실컷 먹고…충남지역 ‘축제’가 쏟아진다</td>\n",
       "      <td>\\n\\n\\n\\n\\n2022년 열린 금산인삼축제 장면. 금산군 제공‘축제의 계절’이 ...</td>\n",
       "    </tr>\n",
       "    <tr>\n",
       "      <th>2</th>\n",
       "      <td>대전일보</td>\n",
       "      <td>https://n.news.naver.com/mnews/article/656/000...</td>\n",
       "      <td>[줌인] 전어에서 꽃게, 젓갈, 고구마, 빵, 인삼까지… 뭐 먹을까?</td>\n",
       "      <td>\\n오슈! 보슈! 드슈! 노슈! 충청권 가을 축제\\n\\n\\n\\n올해 대백제전은 9월...</td>\n",
       "    </tr>\n",
       "    <tr>\n",
       "      <th>3</th>\n",
       "      <td>뉴스1</td>\n",
       "      <td>https://n.news.naver.com/mnews/article/421/000...</td>\n",
       "      <td>금산세계인삼축제 성공 다짐 자원봉사자 결의대회 개최</td>\n",
       "      <td>\\n급수·행사지원·안내·체험·교통 등 5개 분야 총 2060여 명 참여\\n\\n\\n\\...</td>\n",
       "    </tr>\n",
       "    <tr>\n",
       "      <th>4</th>\n",
       "      <td>KBS</td>\n",
       "      <td>https://n.news.naver.com/mnews/article/056/001...</td>\n",
       "      <td>계룡군문화축제·금산인삼축제 오늘 개막</td>\n",
       "      <td>\\n\\n\\n\\n\\n\\n\\n\\n\\n\\n\\n\\n\\n\\n\\n[KBS 대전]\\n</td>\n",
       "    </tr>\n",
       "  </tbody>\n",
       "</table>\n",
       "</div>"
      ],
      "text/plain": [
       "  company                                                url  \\\n",
       "0   아시아경제  https://n.news.naver.com/mnews/article/277/000...   \n",
       "1    경향신문  https://n.news.naver.com/mnews/article/032/000...   \n",
       "2    대전일보  https://n.news.naver.com/mnews/article/656/000...   \n",
       "3     뉴스1  https://n.news.naver.com/mnews/article/421/000...   \n",
       "4     KBS  https://n.news.naver.com/mnews/article/056/001...   \n",
       "\n",
       "                                    title  \\\n",
       "0                    백종원 지역축제 먹거리 사업 개선한다   \n",
       "1       신나게 춤추고, 인삼 실컷 먹고…충남지역 ‘축제’가 쏟아진다   \n",
       "2  [줌인] 전어에서 꽃게, 젓갈, 고구마, 빵, 인삼까지… 뭐 먹을까?   \n",
       "3            금산세계인삼축제 성공 다짐 자원봉사자 결의대회 개최   \n",
       "4                    계룡군문화축제·금산인삼축제 오늘 개막   \n",
       "\n",
       "                                             content  \n",
       "0  \\n문체부·관광공사와 '착한가격' 먹거리 장 구축내년에 '관광 서비스 품질개선 캠페...  \n",
       "1  \\n\\n\\n\\n\\n2022년 열린 금산인삼축제 장면. 금산군 제공‘축제의 계절’이 ...  \n",
       "2  \\n오슈! 보슈! 드슈! 노슈! 충청권 가을 축제\\n\\n\\n\\n올해 대백제전은 9월...  \n",
       "3  \\n급수·행사지원·안내·체험·교통 등 5개 분야 총 2060여 명 참여\\n\\n\\n\\...  \n",
       "4           \\n\\n\\n\\n\\n\\n\\n\\n\\n\\n\\n\\n\\n\\n\\n[KBS 대전]\\n  "
      ]
     },
     "execution_count": 16,
     "metadata": {},
     "output_type": "execute_result"
    }
   ],
   "source": [
    "# 데이터프레임 생성\n",
    "columns = [\"company\", \"url\", \"title\", \"content\"]\n",
    "\n",
    "data = {\n",
    "    \"company\": news_company,\n",
    "    \"url\": news_url,\n",
    "    \"title\": news_title,\n",
    "    \"content\": news_content\n",
    "}\n",
    "\n",
    "df_news = pd.DataFrame(data, columns=columns)\n",
    "df_news.head()"
   ]
  },
  {
   "cell_type": "code",
   "execution_count": 17,
   "id": "af387cc9",
   "metadata": {},
   "outputs": [
    {
     "data": {
      "text/plain": [
       "140"
      ]
     },
     "execution_count": 17,
     "metadata": {},
     "output_type": "execute_result"
    }
   ],
   "source": [
    "len(df_news)"
   ]
  },
  {
   "cell_type": "code",
   "execution_count": 18,
   "id": "b5666f87",
   "metadata": {},
   "outputs": [],
   "source": [
    "# 내용 기준 중복 뉴스 제거\n",
    "df_news = df_news.drop_duplicates(subset=['content'], keep='first')"
   ]
  },
  {
   "cell_type": "code",
   "execution_count": 19,
   "id": "fcac9b82",
   "metadata": {},
   "outputs": [
    {
     "data": {
      "text/plain": [
       "136"
      ]
     },
     "execution_count": 19,
     "metadata": {},
     "output_type": "execute_result"
    }
   ],
   "source": [
    "len(df_news)"
   ]
  },
  {
   "cell_type": "code",
   "execution_count": 20,
   "id": "e9664aaa",
   "metadata": {},
   "outputs": [],
   "source": [
    "# Escape문자 제거\n",
    "df_news['content'] = df_news['content'].apply(lambda x: re.sub(r'\\s+', ' ', x))"
   ]
  },
  {
   "cell_type": "code",
   "execution_count": 21,
   "id": "c424779f",
   "metadata": {},
   "outputs": [
    {
     "data": {
      "text/html": [
       "<div>\n",
       "<style scoped>\n",
       "    .dataframe tbody tr th:only-of-type {\n",
       "        vertical-align: middle;\n",
       "    }\n",
       "\n",
       "    .dataframe tbody tr th {\n",
       "        vertical-align: top;\n",
       "    }\n",
       "\n",
       "    .dataframe thead th {\n",
       "        text-align: right;\n",
       "    }\n",
       "</style>\n",
       "<table border=\"1\" class=\"dataframe\">\n",
       "  <thead>\n",
       "    <tr style=\"text-align: right;\">\n",
       "      <th></th>\n",
       "      <th>company</th>\n",
       "      <th>url</th>\n",
       "      <th>title</th>\n",
       "      <th>content</th>\n",
       "    </tr>\n",
       "  </thead>\n",
       "  <tbody>\n",
       "    <tr>\n",
       "      <th>0</th>\n",
       "      <td>아시아경제</td>\n",
       "      <td>https://n.news.naver.com/mnews/article/277/000...</td>\n",
       "      <td>백종원 지역축제 먹거리 사업 개선한다</td>\n",
       "      <td>문체부·관광공사와 '착한가격' 먹거리 장 구축내년에 '관광 서비스 품질개선 캠페인...</td>\n",
       "    </tr>\n",
       "    <tr>\n",
       "      <th>1</th>\n",
       "      <td>경향신문</td>\n",
       "      <td>https://n.news.naver.com/mnews/article/032/000...</td>\n",
       "      <td>신나게 춤추고, 인삼 실컷 먹고…충남지역 ‘축제’가 쏟아진다</td>\n",
       "      <td>2022년 열린 금산인삼축제 장면. 금산군 제공‘축제의 계절’이 왔다. 충남 곳곳...</td>\n",
       "    </tr>\n",
       "    <tr>\n",
       "      <th>2</th>\n",
       "      <td>대전일보</td>\n",
       "      <td>https://n.news.naver.com/mnews/article/656/000...</td>\n",
       "      <td>[줌인] 전어에서 꽃게, 젓갈, 고구마, 빵, 인삼까지… 뭐 먹을까?</td>\n",
       "      <td>오슈! 보슈! 드슈! 노슈! 충청권 가을 축제 올해 대백제전은 9월 23일부터 1...</td>\n",
       "    </tr>\n",
       "    <tr>\n",
       "      <th>3</th>\n",
       "      <td>뉴스1</td>\n",
       "      <td>https://n.news.naver.com/mnews/article/421/000...</td>\n",
       "      <td>금산세계인삼축제 성공 다짐 자원봉사자 결의대회 개최</td>\n",
       "      <td>급수·행사지원·안내·체험·교통 등 5개 분야 총 2060여 명 참여 제41회 금산...</td>\n",
       "    </tr>\n",
       "    <tr>\n",
       "      <th>4</th>\n",
       "      <td>KBS</td>\n",
       "      <td>https://n.news.naver.com/mnews/article/056/001...</td>\n",
       "      <td>계룡군문화축제·금산인삼축제 오늘 개막</td>\n",
       "      <td>[KBS 대전]</td>\n",
       "    </tr>\n",
       "  </tbody>\n",
       "</table>\n",
       "</div>"
      ],
      "text/plain": [
       "  company                                                url  \\\n",
       "0   아시아경제  https://n.news.naver.com/mnews/article/277/000...   \n",
       "1    경향신문  https://n.news.naver.com/mnews/article/032/000...   \n",
       "2    대전일보  https://n.news.naver.com/mnews/article/656/000...   \n",
       "3     뉴스1  https://n.news.naver.com/mnews/article/421/000...   \n",
       "4     KBS  https://n.news.naver.com/mnews/article/056/001...   \n",
       "\n",
       "                                    title  \\\n",
       "0                    백종원 지역축제 먹거리 사업 개선한다   \n",
       "1       신나게 춤추고, 인삼 실컷 먹고…충남지역 ‘축제’가 쏟아진다   \n",
       "2  [줌인] 전어에서 꽃게, 젓갈, 고구마, 빵, 인삼까지… 뭐 먹을까?   \n",
       "3            금산세계인삼축제 성공 다짐 자원봉사자 결의대회 개최   \n",
       "4                    계룡군문화축제·금산인삼축제 오늘 개막   \n",
       "\n",
       "                                             content  \n",
       "0   문체부·관광공사와 '착한가격' 먹거리 장 구축내년에 '관광 서비스 품질개선 캠페인...  \n",
       "1   2022년 열린 금산인삼축제 장면. 금산군 제공‘축제의 계절’이 왔다. 충남 곳곳...  \n",
       "2   오슈! 보슈! 드슈! 노슈! 충청권 가을 축제 올해 대백제전은 9월 23일부터 1...  \n",
       "3   급수·행사지원·안내·체험·교통 등 5개 분야 총 2060여 명 참여 제41회 금산...  \n",
       "4                                          [KBS 대전]   "
      ]
     },
     "execution_count": 21,
     "metadata": {},
     "output_type": "execute_result"
    }
   ],
   "source": [
    "df_news.head()"
   ]
  },
  {
   "cell_type": "code",
   "execution_count": 27,
   "id": "cd2a30da",
   "metadata": {},
   "outputs": [],
   "source": [
    "# df_news.to_csv(path + f\"{search_content}_{startday[0][:4]}_news.csv\", index=False)"
   ]
  }
 ],
 "metadata": {
  "kernelspec": {
   "display_name": "Python 3 (ipykernel)",
   "language": "python",
   "name": "python3"
  },
  "language_info": {
   "codemirror_mode": {
    "name": "ipython",
    "version": 3
   },
   "file_extension": ".py",
   "mimetype": "text/x-python",
   "name": "python",
   "nbconvert_exporter": "python",
   "pygments_lexer": "ipython3",
   "version": "3.12.2"
  }
 },
 "nbformat": 4,
 "nbformat_minor": 5
}
